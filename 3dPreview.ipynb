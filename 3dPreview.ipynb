{
 "cells": [
  {
   "cell_type": "code",
   "execution_count": 1,
   "id": "76aa09b9-ed09-4bf4-be24-11a777d847db",
   "metadata": {},
   "outputs": [],
   "source": [
    "import cadquery"
   ]
  },
  {
   "cell_type": "code",
   "execution_count": 2,
   "id": "137c23b1-0252-4bbd-b36d-75e731834ecc",
   "metadata": {},
   "outputs": [
    {
     "data": {
      "text/plain": [
       "<module 'cadquery' from '/nix/store/4waqm59axgsxqj3xyr9x18l6rqm71vi8-python3-3.11.10-env/lib/python3.11/site-packages/cadquery/__init__.py'>"
      ]
     },
     "execution_count": 2,
     "metadata": {},
     "output_type": "execute_result"
    }
   ],
   "source": [
    "cadquery"
   ]
  },
  {
   "cell_type": "code",
   "execution_count": null,
   "id": "b45f512a-31b9-4790-96a6-c5f305246d28",
   "metadata": {},
   "outputs": [],
   "source": []
  }
 ],
 "metadata": {
  "kernelspec": {
   "display_name": "python-minimal kernel",
   "language": "python",
   "name": "python-minimal"
  },
  "language_info": {
   "codemirror_mode": {
    "name": "ipython",
    "version": 3
   },
   "file_extension": ".py",
   "mimetype": "text/x-python",
   "name": "python",
   "nbconvert_exporter": "python",
   "pygments_lexer": "ipython3",
   "version": "3.11.10"
  }
 },
 "nbformat": 4,
 "nbformat_minor": 5
}
