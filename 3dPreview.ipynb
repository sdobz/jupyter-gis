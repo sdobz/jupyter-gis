{
 "cells": [
  {
   "cell_type": "code",
   "execution_count": 5,
   "id": "76aa09b9-ed09-4bf4-be24-11a777d847db",
   "metadata": {},
   "outputs": [
    {
     "ename": "ModuleNotFoundError",
     "evalue": "No module named 'build123d'",
     "output_type": "error",
     "traceback": [
      "\u001b[0;31m---------------------------------------------------------------------------\u001b[0m",
      "\u001b[0;31mModuleNotFoundError\u001b[0m                       Traceback (most recent call last)",
      "Cell \u001b[0;32mIn[5], line 2\u001b[0m\n\u001b[1;32m      1\u001b[0m \u001b[38;5;28;01mfrom\u001b[39;00m \u001b[38;5;21;01mjupyter_cadquery\u001b[39;00m \u001b[38;5;28;01mimport\u001b[39;00m show, open_viewer, set_defaults\n\u001b[0;32m----> 2\u001b[0m \u001b[38;5;28;01mfrom\u001b[39;00m \u001b[38;5;21;01mbuild123d\u001b[39;00m \u001b[38;5;28;01mimport\u001b[39;00m \u001b[38;5;241m*\u001b[39m\n\u001b[1;32m      4\u001b[0m cv \u001b[38;5;241m=\u001b[39m open_viewer(\u001b[38;5;124m\"\u001b[39m\u001b[38;5;124mBuild123d\u001b[39m\u001b[38;5;124m\"\u001b[39m, cad_width\u001b[38;5;241m=\u001b[39m\u001b[38;5;241m780\u001b[39m, glass\u001b[38;5;241m=\u001b[39m\u001b[38;5;28;01mTrue\u001b[39;00m)\n\u001b[1;32m      6\u001b[0m set_defaults(edge_accuracy\u001b[38;5;241m=\u001b[39m\u001b[38;5;241m0.0001\u001b[39m)\n",
      "\u001b[0;31mModuleNotFoundError\u001b[0m: No module named 'build123d'"
     ]
    }
   ],
   "source": [
    "from jupyter_cadquery import show, open_viewer, set_defaults\n",
    "from build123d import *\n",
    "\n",
    "cv = open_viewer(\"Build123d\", cad_width=780, glass=True)\n",
    "\n",
    "set_defaults(edge_accuracy=0.0001)"
   ]
  },
  {
   "cell_type": "code",
   "execution_count": 4,
   "id": "137c23b1-0252-4bbd-b36d-75e731834ecc",
   "metadata": {},
   "outputs": [
    {
     "ename": "NameError",
     "evalue": "name 'BuildPart' is not defined",
     "output_type": "error",
     "traceback": [
      "\u001b[0;31m---------------------------------------------------------------------------\u001b[0m",
      "\u001b[0;31mNameError\u001b[0m                                 Traceback (most recent call last)",
      "Cell \u001b[0;32mIn[4], line 1\u001b[0m\n\u001b[0;32m----> 1\u001b[0m \u001b[38;5;28;01mwith\u001b[39;00m \u001b[43mBuildPart\u001b[49m() \u001b[38;5;28;01mas\u001b[39;00m b:\n\u001b[1;32m      2\u001b[0m     Box(\u001b[38;5;241m1\u001b[39m, \u001b[38;5;241m1\u001b[39m, \u001b[38;5;241m1\u001b[39m)\n\u001b[1;32m      3\u001b[0m     CounterBoreHole(\u001b[38;5;241m0.2\u001b[39m, \u001b[38;5;241m0.3\u001b[39m, \u001b[38;5;241m0.1\u001b[39m)\n",
      "\u001b[0;31mNameError\u001b[0m: name 'BuildPart' is not defined"
     ]
    }
   ],
   "source": [
    "with BuildPart() as b:\n",
    "    Box(1, 1, 1)\n",
    "    CounterBoreHole(0.2, 0.3, 0.1)\n",
    "    Box(1, 0.2, 1, mode=Mode.SUBTRACT)\n",
    "    Box(0.2, 1, 1, mode=Mode.SUBTRACT)\n",
    "\n",
    "with BuildSketch() as s:\n",
    "    with BuildLine() as line:\n",
    "        l = Line((0, 0), (1, 0))\n",
    "        Line(l @ 1, (1, 1))\n",
    "        offset(line.line.edges(), amount=1)\n",
    "    make_face()\n",
    "\n",
    "with BuildLine() as l:\n",
    "    l1 = Polyline((0.0000, 0.0771), (0.0187, 0.0771), (0.0094, 0.2569))\n",
    "    l2 = Polyline((0.0325, 0.2773), (0.2115, 0.2458), (0.1873, 0.3125))\n",
    "    RadiusArc(l1 @ 1, l2 @ 0, 0.0271)\n",
    "    l3 = Polyline((0.1915, 0.3277), (0.3875, 0.4865), (0.3433, 0.5071))\n",
    "    TangentArc(l2 @ 1, l3 @ 0, tangent=l2 % 1)\n",
    "    l4 = Polyline((0.3362, 0.5235), (0.375, 0.6427), (0.2621, 0.6188))\n",
    "    SagittaArc(l3 @ 1, l4 @ 0, 0.003)\n",
    "    l5 = Polyline((0.2469, 0.6267), (0.225, 0.6781), (0.1369, 0.5835))\n",
    "    ThreePointArc(l4 @ 1, (l4 @ 1 + l5 @ 0) * 0.5 + Vector(-0.002, -0.002), l5 @ 0)\n",
    "    l6 = Polyline((0.1138, 0.5954), (0.1562, 0.8146), (0.0881, 0.7752))\n",
    "    Spline(l5 @ 1, l6 @ 0, tangents=(l5 % 1, l6 % 0), tangent_scalars=(2, 2))\n",
    "    l7 = Line((0.0692, 0.7808), (0.0000, 0.9167))\n",
    "    TangentArc(l6 @ 1, l7 @ 0, tangent=l6 % 1)\n",
    "    mirror(l.edges(), about=Plane.YZ)"
   ]
  },
  {
   "cell_type": "code",
   "execution_count": null,
   "id": "b45f512a-31b9-4790-96a6-c5f305246d28",
   "metadata": {},
   "outputs": [],
   "source": []
  }
 ],
 "metadata": {
  "kernelspec": {
   "display_name": "Python 3 (ipykernel)",
   "language": "python",
   "name": "python3"
  },
  "language_info": {
   "codemirror_mode": {
    "name": "ipython",
    "version": 3
   },
   "file_extension": ".py",
   "mimetype": "text/x-python",
   "name": "python",
   "nbconvert_exporter": "python",
   "pygments_lexer": "ipython3",
   "version": "3.11.10"
  }
 },
 "nbformat": 4,
 "nbformat_minor": 5
}
